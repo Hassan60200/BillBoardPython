{
 "cells": [
  {
   "cell_type": "code",
   "execution_count": null,
   "id": "2e8a0c53",
   "metadata": {},
   "outputs": [],
   "source": [
    "class BillboardItem(scrapy.Item):\n",
    "    # define the fields for your item here like:\n",
    "        rank = scrapy.Field()\n",
    "        img = scrapy.Field()\n",
    "        title = scrapy.Field()\n",
    "        singer = scrapy.Field()\n",
    "        last_position = scrapy.Field()\n",
    "        peak_position = scrapy.Field()\n",
    "        weaks_on_charts = scrapy.Field()\n",
    "        name = scrapy.Field()"
   ]
  },
  {
   "cell_type": "code",
   "execution_count": null,
   "id": "cc303ec0",
   "metadata": {},
   "outputs": [],
   "source": [
    "import scrapy\n",
    "from scrapy import Request\n",
    "from BillBoard.items import BillboardItem\n",
    "\n",
    "class BillboardSpider(scrapy.Spider):\n",
    "    name = 'billBoard'\n",
    "    allowed_domains = ['www.billboard.com']\n",
    "    start_urls = ['https://www.billboard.com/charts/billboard-global-200/','https://www.billboard.com/charts/r-and-b-songs/','https://www.billboard.com/charts/hot-100/','https://www.billboard.com/charts/rap-song/']\n",
    "\n",
    "    def start_requests(self):\n",
    "        for url in self.start_urls:\n",
    "            yield Request(url=url, callback=self.parse_song)\n",
    "\n",
    "    def parse_song(self, response):\n",
    "        liste_song = response.css('.o-chart-results-list-row-container')\n",
    "        \n",
    "        for song in liste_song:\n",
    "            item = BillboardItem()\n",
    "            \n",
    "            #name\n",
    "            try:\n",
    "                item['name'] = response.css('div.chart-results h2::text')[0].extract().strip()\n",
    "            except:\n",
    "                item['name'] = 'None'\n",
    "            \n",
    "            # Rank de la musique\n",
    "            try:\n",
    "                item['rank'] = song.css('li.o-chart-results-list__item span::text')[0].extract().strip()\n",
    "            except:\n",
    "                item['rank'] = 'None'\n",
    "                \n",
    "            # img de la musique\n",
    "            try:\n",
    "                item['img'] = song.css('li.o-chart-results-list__item img.c-lazy-image__img.lrv-u-background-color-grey-lightest.lrv-u-width-100p.lrv-u-display-block.lrv-u-height-auto').attrib['data-lazy-src']\n",
    "            except:\n",
    "                item['img'] = 'None'\n",
    "            \n",
    "            # title de la musique\n",
    "            try:\n",
    "                item['title'] = song.css('li.o-chart-results-list__item h3::text')[0].extract().strip()\n",
    "            except:\n",
    "                item['title'] = 'None'\n",
    "        \n",
    "            # singer de la musique\n",
    "            try:\n",
    "                item['singer'] = song.css('li.lrv-u-width-100p span.c-label::text').get().strip()\n",
    "            except:\n",
    "                item['singer'] = 'None'\n",
    "            \n",
    "               # Dernière position au classement de la musique\n",
    "            try:\n",
    "                item['last_position'] = song.css('li.o-chart-results-list__item .c-label.a-font-primary-bold-l::text')[0].extract().strip()\n",
    "            except:\n",
    "                item['last_position'] = song.css('li.o-chart-results-list__item .c-label.a-font-primary-m::text')[0].extract().strip()\n",
    "               \n",
    "            # Meilleur position au classement de la musique\n",
    "            try:\n",
    "                item['peak_position'] = song.css('li.o-chart-results-list__item .c-label.a-font-primary-bold-l::text')[1].extract().strip()\n",
    "            except:\n",
    "                item['peak_position'] = song.css('li.o-chart-results-list__item .c-label.a-font-primary-m::text')[1].extract().strip()\n",
    "                \n",
    "            # Durée dans le classement\n",
    "            try:\n",
    "                item['weaks_on_charts'] = song.css('li.o-chart-results-list__item .c-label.a-font-primary-bold-l::text')[2].extract().strip()\n",
    "            except:\n",
    "                item['weaks_on_charts'] = song.css('li.o-chart-results-list__item .c-label.a-font-primary-m::text')[2].extract().strip()\n",
    "        \n",
    "            yield item"
   ]
  },
  {
   "cell_type": "code",
   "execution_count": null,
   "id": "71fb7688",
   "metadata": {},
   "outputs": [],
   "source": [
    "\n",
    "!cd BillBoard/spiders && scrapy crawl billBoard -o billboard.csv"
   ]
  },
  {
   "cell_type": "code",
   "execution_count": null,
   "id": "594747f6",
   "metadata": {},
   "outputs": [],
   "source": [
    "import pandas as pd\n",
    "\n",
    "df = pd.read_csv('./BillBoard/spiders/billboard.csv')\n",
    "df"
   ]
  }
 ],
 "metadata": {
  "kernelspec": {
   "display_name": "Python 3 (ipykernel)",
   "language": "python",
   "name": "python3"
  },
  "language_info": {
   "codemirror_mode": {
    "name": "ipython",
    "version": 3
   },
   "file_extension": ".py",
   "mimetype": "text/x-python",
   "name": "python",
   "nbconvert_exporter": "python",
   "pygments_lexer": "ipython3",
   "version": "3.8.10"
  }
 },
 "nbformat": 4,
 "nbformat_minor": 5
}
