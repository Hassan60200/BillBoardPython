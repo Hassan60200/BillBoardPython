{
 "cells": [
  {
   "cell_type": "code",
   "execution_count": null,
   "id": "2e8a0c53",
   "metadata": {},
   "outputs": [],
   "source": [
    "class BillboardItem(scrapy.Item):\n",
    "    # define the fields for your item here like:\n",
    "        rank = scrapy.Field()\n",
    "        img = scrapy.Field()\n",
    "        title = scrapy.Field()\n",
    "        singer = scrapy.Field()\n",
    "        last_position = scrapy.Field()\n",
    "        peak_position = scrapy.Field()\n",
    "        weaks_on_charts = scrapy.Field()"
   ]
  }
 ],
 "metadata": {
  "kernelspec": {
   "display_name": "Python 3 (ipykernel)",
   "language": "python",
   "name": "python3"
  },
  "language_info": {
   "codemirror_mode": {
    "name": "ipython",
    "version": 3
   },
   "file_extension": ".py",
   "mimetype": "text/x-python",
   "name": "python",
   "nbconvert_exporter": "python",
   "pygments_lexer": "ipython3",
   "version": "3.8.10"
  }
 },
 "nbformat": 4,
 "nbformat_minor": 5
}
