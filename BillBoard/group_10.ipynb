{
 "cells": [
  {
   "cell_type": "code",
   "execution_count": null,
   "id": "2e8a0c53",
   "metadata": {},
   "outputs": [],
   "source": [
    "class BillboardItem(scrapy.Item):\n",
    "    # define the fields for your item here like:\n",
    "        rank = scrapy.Field()\n",
    "        img = scrapy.Field()\n",
    "        title = scrapy.Field()\n",
    "        singer = scrapy.Field()\n",
    "        last_position = scrapy.Field()\n",
    "        peak_position = scrapy.Field()\n",
    "        weaks_on_charts = scrapy.Field()"
   ]
  },
  {
   "cell_type": "code",
   "execution_count": null,
   "id": "2790bf4d",
   "metadata": {},
   "outputs": [],
   "source": [
    "import scrapy\n",
    "from scrapy import Request\n",
    "from Billboard.items import BillboardItem\n",
    "\n",
    "class BillboardSpider(scrapy.Spider):\n",
    "    name = 'billBoard'\n",
    "    allowed_domains = ['www.billboard.com']\n",
    "    start_urls = ['https://www.billboard.com/charts/billboard-global-200/']\n",
    "\n",
    "    def start_requests(self):\n",
    "        for url in self.start_urls:\n",
    "            yield Request(url=url, callback=self.parse_song)\n",
    "\n",
    "    def parse_song(self, response):\n",
    "        liste_song = response.css('.o-chart-results-list-row-container')\n",
    "        \n",
    "        for song in list_song:\n",
    "            item = BillboardItem()\n",
    "            \n",
    "            # Rank de la musique\n",
    "            try:\n",
    "                item['rank'] = song.css().extract()\n",
    "            except:\n",
    "                item['rank'] = 'None'\n",
    "                \n",
    "        yield item"
   ]
  }
 ],
 "metadata": {
  "kernelspec": {
   "display_name": "Python 3 (ipykernel)",
   "language": "python",
   "name": "python3"
  },
  "language_info": {
   "codemirror_mode": {
    "name": "ipython",
    "version": 3
   },
   "file_extension": ".py",
   "mimetype": "text/x-python",
   "name": "python",
   "nbconvert_exporter": "python",
   "pygments_lexer": "ipython3",
   "version": "3.8.10"
  }
 },
 "nbformat": 4,
 "nbformat_minor": 5
}
